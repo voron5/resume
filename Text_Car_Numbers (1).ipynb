{
 "cells": [
  {
   "cell_type": "code",
   "execution_count": 24,
   "metadata": {
    "executionInfo": {
     "elapsed": 1687,
     "status": "ok",
     "timestamp": 1744809398559,
     "user": {
      "displayName": "Владимир Воронин",
      "userId": "14851569400867765386"
     },
     "user_tz": -180
    },
    "id": "2uNzn-ccMARP"
   },
   "outputs": [],
   "source": [
    "import torch\n",
    "import torch.nn as nn\n",
    "import cv2\n",
    "import os\n",
    "import pandas as pd\n",
    "from torchvision import transforms\n",
    "from sklearn.model_selection import train_test_split"
   ]
  },
  {
   "cell_type": "code",
   "execution_count": 25,
   "metadata": {},
   "outputs": [],
   "source": [
    "symbols_keys = {\n",
    "    0: '0', 1: '1', 2: '2', 3: '3', 4: '4', 5: '5', 6: '6', 7: '7', 8: '8', 9: '9',\n",
    "    10: 'A', 11: 'B', 12: 'C', 13: 'D', 14: 'E', 15: 'F', 16: 'G', 17: 'H', 18: 'I', 19: 'J',\n",
    "    20: 'K', 21: 'L', 22: 'M', 23: 'N', 24: 'O', 25: 'P', 26: 'Q', 27: 'R', 28: 'S', 29: 'T',\n",
    "    30: 'U', 31: 'V', 32: 'W', 33: 'X', 34: 'Y', 35: 'Z'\n",
    "}"
   ]
  },
  {
   "cell_type": "code",
   "execution_count": 26,
   "metadata": {
    "executionInfo": {
     "elapsed": 1,
     "status": "ok",
     "timestamp": 1744809398565,
     "user": {
      "displayName": "Владимир Воронин",
      "userId": "14851569400867765386"
     },
     "user_tz": -180
    },
    "id": "N8CpBCrIMZAv"
   },
   "outputs": [],
   "source": [
    "class CharsDataset(torch.utils.data.Dataset):\n",
    "  def __init__(self, path, transform = None):\n",
    "    super().__init__()\n",
    "    self.data = pd.read_csv(path)\n",
    "    self.transform = transform\n",
    "\n",
    "  def __len__(self):\n",
    "    return len(self.data)\n",
    "\n",
    "  def __getitem__(self, idx):\n",
    "    row = self.data.iloc[idx]\n",
    "    label = row[0]\n",
    "    pixels = row[1:].values.astype('float32')/255.0\n",
    "    image = pixels.reshape(28,28)\n",
    "\n",
    "    if self.transform:\n",
    "      image = self.transform(image)\n",
    "    return image, label\n"
   ]
  },
  {
   "cell_type": "code",
   "execution_count": 27,
   "metadata": {
    "executionInfo": {
     "elapsed": 1,
     "status": "ok",
     "timestamp": 1744809398567,
     "user": {
      "displayName": "Владимир Воронин",
      "userId": "14851569400867765386"
     },
     "user_tz": -180
    },
    "id": "nowpZ1iuWzbH"
   },
   "outputs": [],
   "source": [
    "transform = transforms.Compose([\n",
    "    transforms.ToTensor(),\n",
    "    transforms.RandomRotation(10),\n",
    "])"
   ]
  },
  {
   "cell_type": "code",
   "execution_count": 47,
   "metadata": {
    "colab": {
     "background_save": true
    },
    "id": "0CINeh41tbkm"
   },
   "outputs": [
    {
     "name": "stderr",
     "output_type": "stream",
     "text": [
      "C:\\Users\\vipvo\\AppData\\Local\\Temp\\ipykernel_6832\\1769068122.py:12: FutureWarning: Series.__getitem__ treating keys as positions is deprecated. In a future version, integer keys will always be treated as labels (consistent with DataFrame behavior). To access a value by position, use `ser.iloc[pos]`\n",
      "  label = row[0]\n"
     ]
    }
   ],
   "source": [
    "dataset = CharsDataset('C:/Users/vipvo/Jupyter_Programs/typedCSV без строчных.csv', transform = transform)\n",
    "train_data, val_data = train_test_split(dataset, test_size = 0.2)\n",
    "train_loader = torch.utils.data.DataLoader(train_data, batch_size = 16, shuffle = True)\n",
    "val_loader = torch.utils.data.DataLoader(val_data, batch_size = 1)"
   ]
  },
  {
   "cell_type": "code",
   "execution_count": 48,
   "metadata": {},
   "outputs": [],
   "source": [
    "class TextModel(nn.Module):\n",
    "    def __init__(self):\n",
    "        super().__init__()\n",
    "        self.conv0 = nn.Conv2d(1, 32, kernel_size = 3, padding = 1, stride = 1)\n",
    "        self.conv1 = nn.Conv2d(32, 64, kernel_size = 3, padding = 1, stride = 1)\n",
    "        self.conv2 = nn.Conv2d(64, 128, kernel_size = 3, padding = 1, stride = 1)\n",
    "        self.conv3 = nn.Conv2d(128, 256, kernel_size = 3, padding = 1, stride = 1)\n",
    "        self.conv4 = nn.Conv2d(256, 512, kernel_size = 3, padding = 1, stride = 1)\n",
    "        \n",
    "        self.act = nn.LeakyReLU()\n",
    "        self.pooling = nn.MaxPool2d(2)\n",
    "        self.linear0 = nn.Linear(128, 256)\n",
    "        self.linear1 = nn.Linear(256, 36)\n",
    "        # self.linear2 = nn.Linear(128, 36)\n",
    "\n",
    "        self.adaptivepool = nn.AdaptiveAvgPool2d((1, 1))\n",
    "\n",
    "    def forward(self, x):\n",
    "        out = self.conv0(x)\n",
    "        out = self.act(out)\n",
    "        out = self.pooling(out)\n",
    "\n",
    "\n",
    "        out = self.conv1(out)\n",
    "        out = self.act(out)\n",
    "        out = self.pooling(out)\n",
    "        \n",
    "\n",
    "        out = self.conv2(out)\n",
    "        out = self.act(out)\n",
    "        out = self.pooling(out)\n",
    "\n",
    "        # out = self.conv3(out)\n",
    "        # out = self.act(out)\n",
    "        # out = self.pooling(out)\n",
    "\n",
    "        # out = self.conv4(out)\n",
    "        # out = self.act(out)\n",
    "        \n",
    "        out = self.adaptivepool(out)\n",
    "        \n",
    "\n",
    "        out = out.view(out.size(0), -1)\n",
    "        \n",
    "        out = self.linear0(out)\n",
    "        out = self.act(out)\n",
    "\n",
    "        out = self.linear1(out)\n",
    "        # out = self.act(out)\n",
    "\n",
    "        # out = self.linear2(out)\n",
    "        return out\n",
    "        "
   ]
  },
  {
   "cell_type": "code",
   "execution_count": 49,
   "metadata": {},
   "outputs": [],
   "source": [
    "device = torch.device(\"cuda\" if torch.cuda.is_available() else \"cpu\")\n",
    "model = TextModel().to(device)\n",
    "loss_fn = nn.CrossEntropyLoss()\n",
    "optimizer = torch.optim.Adam(model.parameters(), lr=0.001)"
   ]
  },
  {
   "cell_type": "code",
   "execution_count": 50,
   "metadata": {},
   "outputs": [],
   "source": [
    "def train_model(model, dataloader, num_epochs=30, num_classes=36):\n",
    "    model.train()\n",
    "    for epoch in range(num_epochs):\n",
    "        total_loss = 0\n",
    "        for image, label in dataloader:\n",
    "            image = image.to(device)\n",
    "            label = nn.functional.one_hot(label, num_classes).float()\n",
    "            label = label.to(device)\n",
    "            optimizer.zero_grad()\n",
    "            predict = model(image)\n",
    "            loss = loss_fn(predict, label)\n",
    "            total_loss += loss.item()\n",
    "            loss.backward()\n",
    "            optimizer.step()\n",
    "        print(f'Epoch {epoch+1}/{num_epochs}, Loss: {total_loss/len(dataloader):.4f}')"
   ]
  },
  {
   "cell_type": "code",
   "execution_count": 51,
   "metadata": {},
   "outputs": [
    {
     "name": "stdout",
     "output_type": "stream",
     "text": [
      "Epoch 1/30, Loss: 1.3850\n",
      "Epoch 2/30, Loss: 0.3393\n",
      "Epoch 3/30, Loss: 0.2362\n",
      "Epoch 4/30, Loss: 0.1835\n",
      "Epoch 5/30, Loss: 0.1467\n",
      "Epoch 6/30, Loss: 0.1182\n",
      "Epoch 7/30, Loss: 0.1022\n",
      "Epoch 8/30, Loss: 0.0878\n",
      "Epoch 9/30, Loss: 0.0781\n",
      "Epoch 10/30, Loss: 0.0684\n",
      "Epoch 11/30, Loss: 0.0633\n",
      "Epoch 12/30, Loss: 0.0565\n",
      "Epoch 13/30, Loss: 0.0584\n",
      "Epoch 14/30, Loss: 0.0500\n",
      "Epoch 15/30, Loss: 0.0552\n",
      "Epoch 16/30, Loss: 0.0454\n",
      "Epoch 17/30, Loss: 0.0491\n",
      "Epoch 18/30, Loss: 0.0451\n",
      "Epoch 19/30, Loss: 0.0437\n",
      "Epoch 20/30, Loss: 0.0404\n",
      "Epoch 21/30, Loss: 0.0428\n",
      "Epoch 22/30, Loss: 0.0361\n",
      "Epoch 23/30, Loss: 0.0395\n",
      "Epoch 24/30, Loss: 0.0363\n",
      "Epoch 25/30, Loss: 0.0382\n",
      "Epoch 26/30, Loss: 0.0340\n",
      "Epoch 27/30, Loss: 0.0345\n",
      "Epoch 28/30, Loss: 0.0318\n",
      "Epoch 29/30, Loss: 0.0302\n",
      "Epoch 30/30, Loss: 0.0308\n"
     ]
    }
   ],
   "source": [
    "train_model(model, train_loader)"
   ]
  },
  {
   "cell_type": "code",
   "execution_count": 52,
   "metadata": {},
   "outputs": [],
   "source": [
    "scriped_model = torch.jit.script(model)\n",
    "scriped_model.save('scriped_Number_to_Text_ONLY_BIG.pt')"
   ]
  },
  {
   "cell_type": "code",
   "execution_count": 53,
   "metadata": {},
   "outputs": [],
   "source": [
    "def val_model(model, dataloader, num_classes=36):\n",
    "    model.eval()\n",
    "    total_loss = 0\n",
    "    right_pred = 0\n",
    "    false_pred = 0\n",
    "    with torch.no_grad():\n",
    "        for image, label in dataloader:\n",
    "            image = image.to(device)\n",
    "            labels = nn.functional.one_hot(label, num_classes).float()\n",
    "            label = label.to(device)\n",
    "            labels = labels.to(device)\n",
    "            predict = model(image)\n",
    "            loss = loss_fn(predict, labels)\n",
    "            total_loss += loss.item()\n",
    "\n",
    "            if label.item() == torch.argmax(predict):\n",
    "                right_pred += 1\n",
    "            else:\n",
    "                false_pred += 1\n",
    "        print(f'Loss: {total_loss/len(dataloader):.4f}\\nRight:\\\n",
    "        {right_pred}/{len(dataloader)}; False: {false_pred}/{len(dataloader)}')"
   ]
  },
  {
   "cell_type": "code",
   "execution_count": 54,
   "metadata": {},
   "outputs": [
    {
     "name": "stdout",
     "output_type": "stream",
     "text": [
      "Loss: 0.1440\n",
      "Right:        7055/7316; False: 261/7316\n"
     ]
    }
   ],
   "source": [
    "val_model(model, val_loader)"
   ]
  },
  {
   "cell_type": "code",
   "execution_count": 36,
   "metadata": {},
   "outputs": [],
   "source": [
    "#torch.save(model, 'NumberToText.pt')\n"
   ]
  },
  {
   "cell_type": "code",
   "execution_count": 37,
   "metadata": {},
   "outputs": [],
   "source": [
    "def try_model(model_path, file_path, CSV_idx=None, label=None, img_size=(28, 28)):\n",
    "    model = torch.load(model_path)\n",
    "    name, existion = os.path.splitext(file_path)\n",
    "    if existion == '.csv':    \n",
    "        file = pd.read_csv(file_path)              \n",
    "        row = file.iloc[CSV_idx]\n",
    "        image = row[1:]\n",
    "        image = image.values\n",
    "        label = row[0] \n",
    "        \n",
    "    else:\n",
    "        print('Для изображений пока не добавил функционал')\n",
    "\n",
    "    image = image.astype('float32')/255.0\n",
    "    image = image.reshape(28,28)\n",
    "    resized_image = cv2.resize(image, img_size, interpolation=cv2.INTER_LINEAR)\n",
    "    cv2.imshow('Window', resized_image)\n",
    "    image = torch.tensor(image).unsqueeze(0).unsqueeze(0).to(device)\n",
    "    \n",
    "    result = model(image)\n",
    "    res_symb = torch.argmax(result).item()\n",
    "    print(f'Prediction: {res_symb} ({symbols_keys[res_symb]}); Label: {label}')\n",
    "    cv2.waitKey(0) \n",
    "    cv2.destroyAllWindows()\n"
   ]
  },
  {
   "cell_type": "code",
   "execution_count": 38,
   "metadata": {},
   "outputs": [
    {
     "name": "stderr",
     "output_type": "stream",
     "text": [
      "C:\\Users\\vipvo\\AppData\\Local\\Temp\\ipykernel_6832\\3681034531.py:2: FutureWarning: You are using `torch.load` with `weights_only=False` (the current default value), which uses the default pickle module implicitly. It is possible to construct malicious pickle data which will execute arbitrary code during unpickling (See https://github.com/pytorch/pytorch/blob/main/SECURITY.md#untrusted-models for more details). In a future release, the default value for `weights_only` will be flipped to `True`. This limits the functions that could be executed during unpickling. Arbitrary objects will no longer be allowed to be loaded via this mode unless they are explicitly allowlisted by the user via `torch.serialization.add_safe_globals`. We recommend you start setting `weights_only=True` for any use case where you don't have full control of the loaded file. Please open an issue on GitHub for any issues related to this experimental feature.\n",
      "  model = torch.load(model_path)\n",
      "D:\\Programs\\Python\\Lib\\site-packages\\torch\\serialization.py:1328: UserWarning: 'torch.load' received a zip file that looks like a TorchScript archive dispatching to 'torch.jit.load' (call 'torch.jit.load' directly to silence this warning)\n",
      "  warnings.warn(\n",
      "C:\\Users\\vipvo\\AppData\\Local\\Temp\\ipykernel_6832\\3681034531.py:9: FutureWarning: Series.__getitem__ treating keys as positions is deprecated. In a future version, integer keys will always be treated as labels (consistent with DataFrame behavior). To access a value by position, use `ser.iloc[pos]`\n",
      "  label = row[0]\n"
     ]
    },
    {
     "name": "stdout",
     "output_type": "stream",
     "text": [
      "Prediction: 12 (C); Label: 12\n"
     ]
    }
   ],
   "source": [
    "try_model('scriped_Number_to_Text_ONLY_BIG.pt', 'typedCSV без строчных.csv', 12866, img_size=(250, 250))"
   ]
  },
  {
   "cell_type": "code",
   "execution_count": 39,
   "metadata": {},
   "outputs": [],
   "source": [
    "#СДЕЛАТЬ ИНТЕГРАЦИЮ С YOLO"
   ]
  }
 ],
 "metadata": {
  "colab": {
   "authorship_tag": "ABX9TyO5MGZMI+JleZprS1bYUUQD",
   "mount_file_id": "1rxZbYx-QngisrfiOB-owqMF3Oj3tDyzl",
   "name": "",
   "version": ""
  },
  "kernelspec": {
   "display_name": "Python 3 (ipykernel)",
   "language": "python",
   "name": "python3"
  },
  "language_info": {
   "codemirror_mode": {
    "name": "ipython",
    "version": 3
   },
   "file_extension": ".py",
   "mimetype": "text/x-python",
   "name": "python",
   "nbconvert_exporter": "python",
   "pygments_lexer": "ipython3",
   "version": "3.11.4"
  }
 },
 "nbformat": 4,
 "nbformat_minor": 4
}
