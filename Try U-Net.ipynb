{
  "cells": [
    {
      "cell_type": "code",
      "execution_count": 15,
      "id": "696f08cd",
      "metadata": {
        "id": "696f08cd"
      },
      "outputs": [],
      "source": [
        "import cv2\n",
        "import matplotlib.pyplot as plt\n",
        "import numpy as np\n",
        "import os\n",
        "import copy\n",
        "from tqdm import tqdm\n",
        "\n",
        "import albumentations as A\n",
        "from albumentations.pytorch import ToTensorV2\n",
        "\n",
        "import torch\n",
        "import torch.nn as nn\n",
        "import torch.nn.functional as F"
      ]
    },
    {
      "cell_type": "code",
      "execution_count": 16,
      "id": "5dc16da6",
      "metadata": {
        "id": "5dc16da6"
      },
      "outputs": [],
      "source": [
        "class CNA(nn.Module):\n",
        "    def __init__(self, in_nc, out_nc, stride=1):\n",
        "        super().__init__()\n",
        "\n",
        "        self.conv = nn.Conv2d(in_nc, out_nc, 3, stride=stride, padding=1, bias=False)\n",
        "        self.norm = nn.BatchNorm2d(out_nc)\n",
        "        self.act = nn.GELU()\n",
        "\n",
        "    def forward(self, x):\n",
        "        out = self.conv(x)\n",
        "        out = self.norm(out)\n",
        "        out = self.act(out)\n",
        "\n",
        "        return out"
      ]
    },
    {
      "cell_type": "code",
      "execution_count": 17,
      "id": "c4adbb39",
      "metadata": {
        "id": "c4adbb39"
      },
      "outputs": [],
      "source": [
        "class UnetBlock(nn.Module):\n",
        "    def __init__(self, in_nc, inner_nc, out_nc, inner_block=None):\n",
        "        super().__init__()\n",
        "\n",
        "        self.conv1 = CNA(in_nc, inner_nc, stride=2)\n",
        "        self.conv2 = CNA(inner_nc, inner_nc)\n",
        "        self.inner_block = inner_block\n",
        "        self.conv3 = CNA(inner_nc, inner_nc)\n",
        "        self.conv_cat = nn.Conv2d(inner_nc+in_nc, out_nc, 3, padding=1)\n",
        "\n",
        "    def forward(self, x):\n",
        "        _,_,h,w = x.shape\n",
        "\n",
        "        inner = self.conv1(x)\n",
        "        inner = self.conv2(inner)\n",
        "        #print(inner.shape)\n",
        "        if self.inner_block is not None:\n",
        "            inner = self.inner_block(inner)\n",
        "        inner = self.conv3(inner)\n",
        "\n",
        "        inner = F.upsample(inner, size=(h,w), mode='bilinear')\n",
        "        inner = torch.cat((x, inner), axis=1)\n",
        "        out = self.conv_cat(inner)\n",
        "\n",
        "        return out"
      ]
    },
    {
      "cell_type": "code",
      "execution_count": 18,
      "id": "5f34fae5",
      "metadata": {
        "id": "5f34fae5"
      },
      "outputs": [],
      "source": [
        "class Unet(nn.Module):\n",
        "    def __init__(self, in_nc=1, nc=32, out_nc=1, num_downs=6):\n",
        "        super().__init__()\n",
        "\n",
        "        self.cna1 = CNA(in_nc, nc)\n",
        "        self.cna2 = CNA(nc, nc)\n",
        "\n",
        "        unet_block = None\n",
        "        for i in range(num_downs-3):\n",
        "            unet_block = UnetBlock(8*nc, 8*nc, 8*nc, unet_block)\n",
        "        unet_block = UnetBlock(4*nc, 8*nc, 4*nc, unet_block)\n",
        "        unet_block = UnetBlock(2*nc, 4*nc, 2*nc, unet_block)\n",
        "        self.unet_block = UnetBlock(nc, 2*nc, nc, unet_block)\n",
        "\n",
        "        self.cna3 = CNA(nc, nc)\n",
        "\n",
        "        self.conv_last = nn.Conv2d(nc, out_nc, 3, padding=1)\n",
        "\n",
        "    def forward(self, x):\n",
        "        out = self.cna1(x)\n",
        "        out = self.cna2(out)\n",
        "        out = self.unet_block(out)\n",
        "        out = self.cna3(out)\n",
        "        out = self.conv_last(out)\n",
        "\n",
        "        return out"
      ]
    },
    {
      "cell_type": "code",
      "execution_count": 19,
      "id": "e1a39a14",
      "metadata": {
        "id": "e1a39a14"
      },
      "outputs": [],
      "source": [
        "def count_parameters(model):\n",
        "    return sum(p.numel() for p in model.parameters() if p.requires_grad)"
      ]
    },
    {
      "cell_type": "code",
      "execution_count": 20,
      "id": "232bc801",
      "metadata": {
        "id": "232bc801"
      },
      "outputs": [],
      "source": [
        "class MyDataset(torch.utils.data.Dataset):\n",
        "    def __init__(self,  images_directory, masks_directory, transform=None):\n",
        "        self.images_directory = images_directory\n",
        "        self.masks_directory = masks_directory\n",
        "        self.transform = transform\n",
        "\n",
        "        self.images_filenames = sorted(os.listdir(self.images_directory))\n",
        "\n",
        "    def __len__(self):\n",
        "        return len(self.images_filenames)\n",
        "\n",
        "    def __getitem__(self, idx):\n",
        "        image_filename = self.images_filenames[idx]\n",
        "        image = cv2.imread(os.path.join(self.images_directory, image_filename), cv2.IMREAD_COLOR)\n",
        "        image = cv2.cvtColor(image, cv2.COLOR_BGR2RGB)\n",
        "        mask = cv2.imread(os.path.join(self.masks_directory, image_filename), cv2.IMREAD_COLOR)[:,:,0:1]\n",
        "        image = image.astype(np.float32)/255.0\n",
        "        mask = mask.astype(np.float32)/255.0\n",
        "        if self.transform is not None:\n",
        "            transformed = self.transform(image=image, mask=mask)\n",
        "            image = transformed[\"image\"]\n",
        "            mask = transformed[\"mask\"]\n",
        "            mask = np.transpose(mask, (2,0,1))\n",
        "\n",
        "            #mask = torch.from_numpy(mask)\n",
        "        return image, mask"
      ]
    },
    {
      "cell_type": "code",
      "execution_count": 21,
      "id": "74614bed",
      "metadata": {
        "colab": {
          "base_uri": "https://localhost:8080/"
        },
        "id": "74614bed",
        "outputId": "f2a94a84-a25c-45e9-e304-fd6a4a84669d"
      },
      "outputs": [
        {
          "output_type": "stream",
          "name": "stderr",
          "text": [
            "/usr/local/lib/python3.12/dist-packages/albumentations/core/validation.py:114: UserWarning: ShiftScaleRotate is a special case of Affine transform. Please use Affine transform instead.\n",
            "  original_init(self, **validated_kwargs)\n"
          ]
        }
      ],
      "source": [
        "train_transform = A.Compose(\n",
        "    [\n",
        "        A.PadIfNeeded(min_height=256, min_width=256),\n",
        "        A.RandomCrop(256, 256),\n",
        "        A.ShiftScaleRotate(shift_limit=0.05, scale_limit=0.05, rotate_limit=15, p=0.5),\n",
        "        #A.RGBShift(r_shift_limit=15, g_shift_limit=15, b_shift_limit=15, p=0.5),\n",
        "        #A.RandomBrightnessContrast(p=0.5),\n",
        "        #A.Normalize(mean=(1.0, 1.0, 1.0), std=(1.0, 1.0, 1.0)),\n",
        "        ToTensorV2(),\n",
        "    ]\n",
        ")\n",
        "\n",
        "val_transform = A.Compose(\n",
        "    [\n",
        "        A.PadIfNeeded(min_height=256, min_width=256),\n",
        "        A.CenterCrop(256, 256),\n",
        "        #A.Normalize(mean=(0.485, 0.456, 0.406), std=(0.229, 0.224, 0.225)),\n",
        "        ToTensorV2(),\n",
        "    ]\n",
        ")"
      ]
    },
    {
      "cell_type": "code",
      "execution_count": 22,
      "id": "2e6ae78f",
      "metadata": {
        "id": "2e6ae78f"
      },
      "outputs": [],
      "source": [
        "ds_images_path = '/content/drive/MyDrive/ML/U-Net/images'\n",
        "ds_masks_path = '/content/drive/MyDrive/ML/U-Net/masks'"
      ]
    },
    {
      "cell_type": "code",
      "execution_count": 23,
      "id": "601a5d70",
      "metadata": {
        "id": "601a5d70"
      },
      "outputs": [],
      "source": [
        "ds_train = MyDataset(ds_images_path, ds_masks_path, transform=train_transform)"
      ]
    },
    {
      "cell_type": "code",
      "execution_count": 24,
      "id": "ff1540b8",
      "metadata": {
        "id": "ff1540b8"
      },
      "outputs": [],
      "source": [
        "#ds_train[0][0].max()"
      ]
    },
    {
      "cell_type": "code",
      "execution_count": 25,
      "id": "fc14b694",
      "metadata": {
        "id": "fc14b694"
      },
      "outputs": [],
      "source": [
        "batch_size = 16\n",
        "train_loader = torch.utils.data.DataLoader(\n",
        "    ds_train, shuffle=True,\n",
        "    batch_size=batch_size, num_workers=1, drop_last=True\n",
        ")\n",
        "\n",
        "device = 'cuda'\n",
        "unet_model = Unet(in_nc=3, nc=32, out_nc=1, num_downs=5)\n",
        "unet_model = unet_model.to(device)\n",
        "\n",
        "loss_fn = nn.BCEWithLogitsLoss()\n",
        "optimizer = torch.optim.Adam(unet_model.parameters(), lr=0.001, betas=(0.9, 0.999))\n",
        "scheduler = torch.optim.lr_scheduler.ExponentialLR(optimizer, gamma=0.9)"
      ]
    },
    {
      "cell_type": "code",
      "execution_count": 26,
      "id": "487c48eb",
      "metadata": {
        "colab": {
          "base_uri": "https://localhost:8080/"
        },
        "id": "487c48eb",
        "outputId": "1fbf24ce-3c70-4afa-aeb5-6902106284ac"
      },
      "outputs": [
        {
          "output_type": "execute_result",
          "data": {
            "text/plain": [
              "8440481"
            ]
          },
          "metadata": {},
          "execution_count": 26
        }
      ],
      "source": [
        "count_parameters(unet_model)"
      ]
    },
    {
      "cell_type": "code",
      "execution_count": 27,
      "id": "f70b46c4",
      "metadata": {
        "colab": {
          "base_uri": "https://localhost:8080/",
          "height": 664
        },
        "id": "f70b46c4",
        "outputId": "1c0ef412-f440-4202-80df-dc25dc745472"
      },
      "outputs": [
        {
          "output_type": "stream",
          "name": "stderr",
          "text": [
            "\r  0%|          | 0/74 [00:00<?, ?it/s]/tmp/ipython-input-1614655573.py:21: UserWarning: `nn.functional.upsample` is deprecated. Use `nn.functional.interpolate` instead.\n",
            "  inner = F.upsample(inner, size=(h,w), mode='bilinear')\n",
            " 38%|███▊      | 28/74 [03:48<06:15,  8.16s/it]\n"
          ]
        },
        {
          "output_type": "error",
          "ename": "error",
          "evalue": "Caught error in DataLoader worker process 0.\nOriginal Traceback (most recent call last):\n  File \"/usr/local/lib/python3.12/dist-packages/torch/utils/data/_utils/worker.py\", line 349, in _worker_loop\n    data = fetcher.fetch(index)  # type: ignore[possibly-undefined]\n           ^^^^^^^^^^^^^^^^^^^^\n  File \"/usr/local/lib/python3.12/dist-packages/torch/utils/data/_utils/fetch.py\", line 52, in fetch\n    data = [self.dataset[idx] for idx in possibly_batched_index]\n            ~~~~~~~~~~~~^^^^^\n  File \"/tmp/ipython-input-1316517544.py\", line 15, in __getitem__\n    image = cv2.cvtColor(image, cv2.COLOR_BGR2RGB)\n            ^^^^^^^^^^^^^^^^^^^^^^^^^^^^^^^^^^^^^^\ncv2.error: OpenCV(4.12.0) /io/opencv/modules/imgproc/src/color.cpp:199: error: (-215:Assertion failed) !_src.empty() in function 'cvtColor'\n\n",
          "traceback": [
            "\u001b[0;31m---------------------------------------------------------------------------\u001b[0m",
            "\u001b[0;31merror\u001b[0m                                     Traceback (most recent call last)",
            "\u001b[0;32m/tmp/ipython-input-583375329.py\u001b[0m in \u001b[0;36m<cell line: 0>\u001b[0;34m()\u001b[0m\n\u001b[1;32m      3\u001b[0m     \u001b[0mloss_val\u001b[0m \u001b[0;34m=\u001b[0m \u001b[0;36m0\u001b[0m\u001b[0;34m\u001b[0m\u001b[0;34m\u001b[0m\u001b[0m\n\u001b[1;32m      4\u001b[0m     \u001b[0macc_val\u001b[0m \u001b[0;34m=\u001b[0m \u001b[0;36m0\u001b[0m\u001b[0;34m\u001b[0m\u001b[0;34m\u001b[0m\u001b[0m\n\u001b[0;32m----> 5\u001b[0;31m     \u001b[0;32mfor\u001b[0m \u001b[0msample\u001b[0m \u001b[0;32min\u001b[0m \u001b[0;34m(\u001b[0m\u001b[0mpbar\u001b[0m \u001b[0;34m:=\u001b[0m \u001b[0mtqdm\u001b[0m\u001b[0;34m(\u001b[0m\u001b[0mtrain_loader\u001b[0m\u001b[0;34m)\u001b[0m\u001b[0;34m)\u001b[0m\u001b[0;34m:\u001b[0m\u001b[0;34m\u001b[0m\u001b[0;34m\u001b[0m\u001b[0m\n\u001b[0m\u001b[1;32m      6\u001b[0m         \u001b[0mimg\u001b[0m\u001b[0;34m,\u001b[0m \u001b[0mmask\u001b[0m \u001b[0;34m=\u001b[0m \u001b[0msample\u001b[0m\u001b[0;34m\u001b[0m\u001b[0;34m\u001b[0m\u001b[0m\n\u001b[1;32m      7\u001b[0m         \u001b[0mimg\u001b[0m \u001b[0;34m=\u001b[0m \u001b[0mimg\u001b[0m\u001b[0;34m.\u001b[0m\u001b[0mto\u001b[0m\u001b[0;34m(\u001b[0m\u001b[0mdevice\u001b[0m\u001b[0;34m)\u001b[0m\u001b[0;34m\u001b[0m\u001b[0;34m\u001b[0m\u001b[0m\n",
            "\u001b[0;32m/usr/local/lib/python3.12/dist-packages/tqdm/std.py\u001b[0m in \u001b[0;36m__iter__\u001b[0;34m(self)\u001b[0m\n\u001b[1;32m   1179\u001b[0m \u001b[0;34m\u001b[0m\u001b[0m\n\u001b[1;32m   1180\u001b[0m         \u001b[0;32mtry\u001b[0m\u001b[0;34m:\u001b[0m\u001b[0;34m\u001b[0m\u001b[0;34m\u001b[0m\u001b[0m\n\u001b[0;32m-> 1181\u001b[0;31m             \u001b[0;32mfor\u001b[0m \u001b[0mobj\u001b[0m \u001b[0;32min\u001b[0m \u001b[0miterable\u001b[0m\u001b[0;34m:\u001b[0m\u001b[0;34m\u001b[0m\u001b[0;34m\u001b[0m\u001b[0m\n\u001b[0m\u001b[1;32m   1182\u001b[0m                 \u001b[0;32myield\u001b[0m \u001b[0mobj\u001b[0m\u001b[0;34m\u001b[0m\u001b[0;34m\u001b[0m\u001b[0m\n\u001b[1;32m   1183\u001b[0m                 \u001b[0;31m# Update and possibly print the progressbar.\u001b[0m\u001b[0;34m\u001b[0m\u001b[0;34m\u001b[0m\u001b[0m\n",
            "\u001b[0;32m/usr/local/lib/python3.12/dist-packages/torch/utils/data/dataloader.py\u001b[0m in \u001b[0;36m__next__\u001b[0;34m(self)\u001b[0m\n\u001b[1;32m    732\u001b[0m                 \u001b[0;31m# TODO(https://github.com/pytorch/pytorch/issues/76750)\u001b[0m\u001b[0;34m\u001b[0m\u001b[0;34m\u001b[0m\u001b[0m\n\u001b[1;32m    733\u001b[0m                 \u001b[0mself\u001b[0m\u001b[0;34m.\u001b[0m\u001b[0m_reset\u001b[0m\u001b[0;34m(\u001b[0m\u001b[0;34m)\u001b[0m  \u001b[0;31m# type: ignore[call-arg]\u001b[0m\u001b[0;34m\u001b[0m\u001b[0;34m\u001b[0m\u001b[0m\n\u001b[0;32m--> 734\u001b[0;31m             \u001b[0mdata\u001b[0m \u001b[0;34m=\u001b[0m \u001b[0mself\u001b[0m\u001b[0;34m.\u001b[0m\u001b[0m_next_data\u001b[0m\u001b[0;34m(\u001b[0m\u001b[0;34m)\u001b[0m\u001b[0;34m\u001b[0m\u001b[0;34m\u001b[0m\u001b[0m\n\u001b[0m\u001b[1;32m    735\u001b[0m             \u001b[0mself\u001b[0m\u001b[0;34m.\u001b[0m\u001b[0m_num_yielded\u001b[0m \u001b[0;34m+=\u001b[0m \u001b[0;36m1\u001b[0m\u001b[0;34m\u001b[0m\u001b[0;34m\u001b[0m\u001b[0m\n\u001b[1;32m    736\u001b[0m             if (\n",
            "\u001b[0;32m/usr/local/lib/python3.12/dist-packages/torch/utils/data/dataloader.py\u001b[0m in \u001b[0;36m_next_data\u001b[0;34m(self)\u001b[0m\n\u001b[1;32m   1514\u001b[0m                 \u001b[0mworker_id\u001b[0m \u001b[0;34m=\u001b[0m \u001b[0mself\u001b[0m\u001b[0;34m.\u001b[0m\u001b[0m_task_info\u001b[0m\u001b[0;34m.\u001b[0m\u001b[0mpop\u001b[0m\u001b[0;34m(\u001b[0m\u001b[0midx\u001b[0m\u001b[0;34m)\u001b[0m\u001b[0;34m[\u001b[0m\u001b[0;36m0\u001b[0m\u001b[0;34m]\u001b[0m\u001b[0;34m\u001b[0m\u001b[0;34m\u001b[0m\u001b[0m\n\u001b[1;32m   1515\u001b[0m                 \u001b[0mself\u001b[0m\u001b[0;34m.\u001b[0m\u001b[0m_rcvd_idx\u001b[0m \u001b[0;34m+=\u001b[0m \u001b[0;36m1\u001b[0m\u001b[0;34m\u001b[0m\u001b[0;34m\u001b[0m\u001b[0m\n\u001b[0;32m-> 1516\u001b[0;31m                 \u001b[0;32mreturn\u001b[0m \u001b[0mself\u001b[0m\u001b[0;34m.\u001b[0m\u001b[0m_process_data\u001b[0m\u001b[0;34m(\u001b[0m\u001b[0mdata\u001b[0m\u001b[0;34m,\u001b[0m \u001b[0mworker_id\u001b[0m\u001b[0;34m)\u001b[0m\u001b[0;34m\u001b[0m\u001b[0;34m\u001b[0m\u001b[0m\n\u001b[0m\u001b[1;32m   1517\u001b[0m \u001b[0;34m\u001b[0m\u001b[0m\n\u001b[1;32m   1518\u001b[0m     \u001b[0;32mdef\u001b[0m \u001b[0m_try_put_index\u001b[0m\u001b[0;34m(\u001b[0m\u001b[0mself\u001b[0m\u001b[0;34m)\u001b[0m\u001b[0;34m:\u001b[0m\u001b[0;34m\u001b[0m\u001b[0;34m\u001b[0m\u001b[0m\n",
            "\u001b[0;32m/usr/local/lib/python3.12/dist-packages/torch/utils/data/dataloader.py\u001b[0m in \u001b[0;36m_process_data\u001b[0;34m(self, data, worker_idx)\u001b[0m\n\u001b[1;32m   1549\u001b[0m         \u001b[0mself\u001b[0m\u001b[0;34m.\u001b[0m\u001b[0m_try_put_index\u001b[0m\u001b[0;34m(\u001b[0m\u001b[0;34m)\u001b[0m\u001b[0;34m\u001b[0m\u001b[0;34m\u001b[0m\u001b[0m\n\u001b[1;32m   1550\u001b[0m         \u001b[0;32mif\u001b[0m \u001b[0misinstance\u001b[0m\u001b[0;34m(\u001b[0m\u001b[0mdata\u001b[0m\u001b[0;34m,\u001b[0m \u001b[0mExceptionWrapper\u001b[0m\u001b[0;34m)\u001b[0m\u001b[0;34m:\u001b[0m\u001b[0;34m\u001b[0m\u001b[0;34m\u001b[0m\u001b[0m\n\u001b[0;32m-> 1551\u001b[0;31m             \u001b[0mdata\u001b[0m\u001b[0;34m.\u001b[0m\u001b[0mreraise\u001b[0m\u001b[0;34m(\u001b[0m\u001b[0;34m)\u001b[0m\u001b[0;34m\u001b[0m\u001b[0;34m\u001b[0m\u001b[0m\n\u001b[0m\u001b[1;32m   1552\u001b[0m         \u001b[0;32mreturn\u001b[0m \u001b[0mdata\u001b[0m\u001b[0;34m\u001b[0m\u001b[0;34m\u001b[0m\u001b[0m\n\u001b[1;32m   1553\u001b[0m \u001b[0;34m\u001b[0m\u001b[0m\n",
            "\u001b[0;32m/usr/local/lib/python3.12/dist-packages/torch/_utils.py\u001b[0m in \u001b[0;36mreraise\u001b[0;34m(self)\u001b[0m\n\u001b[1;32m    767\u001b[0m             \u001b[0;31m# be constructed, don't try to instantiate since we don't know how to\u001b[0m\u001b[0;34m\u001b[0m\u001b[0;34m\u001b[0m\u001b[0m\n\u001b[1;32m    768\u001b[0m             \u001b[0;32mraise\u001b[0m \u001b[0mRuntimeError\u001b[0m\u001b[0;34m(\u001b[0m\u001b[0mmsg\u001b[0m\u001b[0;34m)\u001b[0m \u001b[0;32mfrom\u001b[0m \u001b[0;32mNone\u001b[0m\u001b[0;34m\u001b[0m\u001b[0;34m\u001b[0m\u001b[0m\n\u001b[0;32m--> 769\u001b[0;31m         \u001b[0;32mraise\u001b[0m \u001b[0mexception\u001b[0m\u001b[0;34m\u001b[0m\u001b[0;34m\u001b[0m\u001b[0m\n\u001b[0m\u001b[1;32m    770\u001b[0m \u001b[0;34m\u001b[0m\u001b[0m\n\u001b[1;32m    771\u001b[0m \u001b[0;34m\u001b[0m\u001b[0m\n",
            "\u001b[0;31merror\u001b[0m: Caught error in DataLoader worker process 0.\nOriginal Traceback (most recent call last):\n  File \"/usr/local/lib/python3.12/dist-packages/torch/utils/data/_utils/worker.py\", line 349, in _worker_loop\n    data = fetcher.fetch(index)  # type: ignore[possibly-undefined]\n           ^^^^^^^^^^^^^^^^^^^^\n  File \"/usr/local/lib/python3.12/dist-packages/torch/utils/data/_utils/fetch.py\", line 52, in fetch\n    data = [self.dataset[idx] for idx in possibly_batched_index]\n            ~~~~~~~~~~~~^^^^^\n  File \"/tmp/ipython-input-1316517544.py\", line 15, in __getitem__\n    image = cv2.cvtColor(image, cv2.COLOR_BGR2RGB)\n            ^^^^^^^^^^^^^^^^^^^^^^^^^^^^^^^^^^^^^^\ncv2.error: OpenCV(4.12.0) /io/opencv/modules/imgproc/src/color.cpp:199: error: (-215:Assertion failed) !_src.empty() in function 'cvtColor'\n\n"
          ]
        }
      ],
      "source": [
        "epochs = 10\n",
        "for epoch in range(epochs):\n",
        "    loss_val = 0\n",
        "    acc_val = 0\n",
        "    for sample in (pbar := tqdm(train_loader)):\n",
        "        img, mask = sample\n",
        "        img = img.to(device)\n",
        "        mask = mask.to(device)\n",
        "        optimizer.zero_grad()\n",
        "\n",
        "        pred = unet_model(img)\n",
        "        loss = loss_fn(pred, mask)\n",
        "\n",
        "        loss.backward()\n",
        "        loss_item = loss.item()\n",
        "        loss_val += loss_item\n",
        "\n",
        "        optimizer.step()\n",
        "\n",
        "    scheduler.step()\n",
        "    #pbar.set_description(f'loss: {loss_item:.5f}\\tlr: {scheduler.get_last_lr}')\n",
        "    print(f'{loss_val/len(train_loader)}\\t lr: {scheduler.get_last_lr()}')\n",
        "    #print()"
      ]
    },
    {
      "cell_type": "code",
      "execution_count": null,
      "id": "7f3a13da",
      "metadata": {
        "id": "7f3a13da"
      },
      "outputs": [],
      "source": [
        "img = ds_train[10][0].unsqueeze(0)\n",
        "pred = unet_model(img.cuda())\n",
        "pred = F.sigmoid(pred.detach()).cpu().numpy()[0].transpose(1,2,0)"
      ]
    },
    {
      "cell_type": "code",
      "execution_count": null,
      "id": "c5abf99e",
      "metadata": {
        "id": "c5abf99e"
      },
      "outputs": [],
      "source": [
        "img_np = img.detach().cpu().numpy()[0].transpose(1,2,0)\n",
        "plt.imshow(img_np)"
      ]
    },
    {
      "cell_type": "code",
      "execution_count": null,
      "id": "3ca34f8f",
      "metadata": {
        "id": "3ca34f8f"
      },
      "outputs": [],
      "source": [
        "plt.imshow(pred)"
      ]
    }
  ],
  "metadata": {
    "kernelspec": {
      "display_name": "Python 3",
      "name": "python3"
    },
    "language_info": {
      "codemirror_mode": {
        "name": "ipython",
        "version": 3
      },
      "file_extension": ".py",
      "mimetype": "text/x-python",
      "name": "python",
      "nbconvert_exporter": "python",
      "pygments_lexer": "ipython3",
      "version": "3.10.9"
    },
    "colab": {
      "provenance": [],
      "gpuType": "T4"
    },
    "accelerator": "GPU"
  },
  "nbformat": 4,
  "nbformat_minor": 5
}